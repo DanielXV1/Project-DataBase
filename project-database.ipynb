{
 "cells": [
  {
   "cell_type": "code",
   "execution_count": 1,
   "id": "86884b3d",
   "metadata": {
    "_cell_guid": "b1076dfc-b9ad-4769-8c92-a6c4dae69d19",
    "_uuid": "8f2839f25d086af736a60e9eeb907d3b93b6e0e5",
    "execution": {
     "iopub.execute_input": "2023-06-10T16:21:30.750046Z",
     "iopub.status.busy": "2023-06-10T16:21:30.749341Z",
     "iopub.status.idle": "2023-06-10T16:21:30.772731Z",
     "shell.execute_reply": "2023-06-10T16:21:30.771688Z"
    },
    "papermill": {
     "duration": 0.032497,
     "end_time": "2023-06-10T16:21:30.775332",
     "exception": false,
     "start_time": "2023-06-10T16:21:30.742835",
     "status": "completed"
    },
    "tags": []
   },
   "outputs": [
    {
     "name": "stdout",
     "output_type": "stream",
     "text": [
      "/kaggle/input/netflix-data-cleaning-analysis-and-visualization/netflix1.csv\n"
     ]
    }
   ],
   "source": [
    "# This Python 3 environment comes with many helpful analytics libraries installed\n",
    "# It is defined by the kaggle/python Docker image: https://github.com/kaggle/docker-python\n",
    "# For example, here's several helpful packages to load\n",
    "\n",
    "import numpy as np # linear algebra\n",
    "import pandas as pd # data processing, CSV file I/O (e.g. pd.read_csv)\n",
    "\n",
    "# Input data files are available in the read-only \"../input/\" directory\n",
    "# For example, running this (by clicking run or pressing Shift+Enter) will list all files under the input directory\n",
    "\n",
    "import os\n",
    "for dirname, _, filenames in os.walk('/kaggle/input'):\n",
    "    for filename in filenames:\n",
    "        print(os.path.join(dirname, filename))\n",
    "\n",
    "# You can write up to 20GB to the current directory (/kaggle/working/) that gets preserved as output when you create a version using \"Save & Run All\" \n",
    "# You can also write temporary files to /kaggle/temp/, but they won't be saved outside of the current session"
   ]
  },
  {
   "cell_type": "markdown",
   "id": "6b574e74",
   "metadata": {
    "papermill": {
     "duration": 0.004291,
     "end_time": "2023-06-10T16:21:30.784307",
     "exception": false,
     "start_time": "2023-06-10T16:21:30.780016",
     "status": "completed"
    },
    "tags": []
   },
   "source": [
    "# **Settings**"
   ]
  },
  {
   "cell_type": "code",
   "execution_count": 2,
   "id": "327d87c5",
   "metadata": {
    "execution": {
     "iopub.execute_input": "2023-06-10T16:21:30.795319Z",
     "iopub.status.busy": "2023-06-10T16:21:30.794713Z",
     "iopub.status.idle": "2023-06-10T16:21:30.799203Z",
     "shell.execute_reply": "2023-06-10T16:21:30.798425Z"
    },
    "papermill": {
     "duration": 0.012438,
     "end_time": "2023-06-10T16:21:30.801287",
     "exception": false,
     "start_time": "2023-06-10T16:21:30.788849",
     "status": "completed"
    },
    "tags": []
   },
   "outputs": [],
   "source": [
    "# necessary libraries for work\n",
    "# pip instal markdown\n",
    "# pip install numpy\n",
    "# pip install pandas\n",
    "# pip install ipython\n",
    "# pip install matplotli\n",
    "# pip install statsmodels\n",
    "# pip install scikit-learn\n",
    "# pip install seaborn"
   ]
  },
  {
   "cell_type": "markdown",
   "id": "0f41effa",
   "metadata": {
    "papermill": {
     "duration": 0.004118,
     "end_time": "2023-06-10T16:21:30.809858",
     "exception": false,
     "start_time": "2023-06-10T16:21:30.805740",
     "status": "completed"
    },
    "tags": []
   },
   "source": [
    "# **Step 1.1**"
   ]
  },
  {
   "cell_type": "code",
   "execution_count": 3,
   "id": "f67779b4",
   "metadata": {
    "execution": {
     "iopub.execute_input": "2023-06-10T16:21:30.820775Z",
     "iopub.status.busy": "2023-06-10T16:21:30.820142Z",
     "iopub.status.idle": "2023-06-10T16:21:30.892603Z",
     "shell.execute_reply": "2023-06-10T16:21:30.891510Z"
    },
    "papermill": {
     "duration": 0.080633,
     "end_time": "2023-06-10T16:21:30.894954",
     "exception": false,
     "start_time": "2023-06-10T16:21:30.814321",
     "status": "completed"
    },
    "tags": []
   },
   "outputs": [
    {
     "data": {
      "text/markdown": [
       "**show_id**: Description of show_id.\n",
       "\n",
       "**type**: Description of type.\n",
       "\n",
       "**title**: Description of title.\n",
       "\n",
       "**director**: Description of director.\n",
       "\n",
       "**country**: Description of country.\n",
       "\n",
       "**date_added**: Description of date_added.\n",
       "\n",
       "**release_year**: Description of release_year.\n",
       "\n",
       "**rating**: Description of rating.\n",
       "\n",
       "**duration**: Description of duration.\n",
       "\n",
       "**listed_in**: Description of listed_in.\n",
       "\n"
      ],
      "text/plain": [
       "<IPython.core.display.Markdown object>"
      ]
     },
     "metadata": {},
     "output_type": "display_data"
    }
   ],
   "source": [
    "# library call\n",
    "import pandas as pd\n",
    "\n",
    "from IPython.display import Markdown, display\n",
    "\n",
    "# dataset loading\n",
    "dataset = pd.read_csv('/kaggle/input/netflix-data-cleaning-analysis-and-visualization/netflix1.csv') # loading dataset from csv file\n",
    "dataset.head()\n",
    "\n",
    "def describe_fields(dataset):\n",
    "    fields = dataset.columns.tolist()\n",
    "    markdown_text = \"\"\n",
    "    for field in fields:\n",
    "        markdown_text += f\"**{field}**: Description of {field}.\\n\\n\"\n",
    "    return markdown_text\n",
    "\n",
    "display(Markdown(describe_fields(dataset)))"
   ]
  },
  {
   "cell_type": "markdown",
   "id": "e7df3e8c",
   "metadata": {
    "papermill": {
     "duration": 0.004205,
     "end_time": "2023-06-10T16:21:30.903686",
     "exception": false,
     "start_time": "2023-06-10T16:21:30.899481",
     "status": "completed"
    },
    "tags": []
   },
   "source": [
    "# **Step 1.2**"
   ]
  },
  {
   "cell_type": "code",
   "execution_count": 4,
   "id": "dc8bda6c",
   "metadata": {
    "execution": {
     "iopub.execute_input": "2023-06-10T16:21:30.916111Z",
     "iopub.status.busy": "2023-06-10T16:21:30.915708Z",
     "iopub.status.idle": "2023-06-10T16:21:30.997947Z",
     "shell.execute_reply": "2023-06-10T16:21:30.996136Z"
    },
    "papermill": {
     "duration": 0.090606,
     "end_time": "2023-06-10T16:21:31.000333",
     "exception": false,
     "start_time": "2023-06-10T16:21:30.909727",
     "status": "completed"
    },
    "tags": []
   },
   "outputs": [
    {
     "name": "stdout",
     "output_type": "stream",
     "text": [
      "<class 'pandas.core.frame.DataFrame'>\n",
      "RangeIndex: 8790 entries, 0 to 8789\n",
      "Data columns (total 10 columns):\n",
      " #   Column        Non-Null Count  Dtype \n",
      "---  ------        --------------  ----- \n",
      " 0   show_id       8790 non-null   object\n",
      " 1   type          8790 non-null   object\n",
      " 2   title         8790 non-null   object\n",
      " 3   director      8790 non-null   object\n",
      " 4   country       8790 non-null   object\n",
      " 5   date_added    8790 non-null   object\n",
      " 6   release_year  8790 non-null   int64 \n",
      " 7   rating        8790 non-null   object\n",
      " 8   duration      8790 non-null   object\n",
      " 9   listed_in     8790 non-null   object\n",
      "dtypes: int64(1), object(9)\n",
      "memory usage: 686.8+ KB\n"
     ]
    }
   ],
   "source": [
    "# a) Check having missing or null values and size database\n",
    "\n",
    "# library call\n",
    "import pandas as pd\n",
    "\n",
    "# dataset loading\n",
    "df = pd.read_csv('/kaggle/input/netflix-data-cleaning-analysis-and-visualization/netflix1.csv') \n",
    "\n",
    "# dateset info output\n",
    "df.info()"
   ]
  },
  {
   "cell_type": "code",
   "execution_count": 5,
   "id": "dfc8e8fe",
   "metadata": {
    "execution": {
     "iopub.execute_input": "2023-06-10T16:21:31.011328Z",
     "iopub.status.busy": "2023-06-10T16:21:31.010906Z",
     "iopub.status.idle": "2023-06-10T16:21:31.080133Z",
     "shell.execute_reply": "2023-06-10T16:21:31.078660Z"
    },
    "papermill": {
     "duration": 0.077544,
     "end_time": "2023-06-10T16:21:31.082577",
     "exception": false,
     "start_time": "2023-06-10T16:21:31.005033",
     "status": "completed"
    },
    "tags": []
   },
   "outputs": [
    {
     "name": "stdout",
     "output_type": "stream",
     "text": [
      "missing value: False\n",
      "\n",
      "count null value:\n",
      "\n",
      "show_id         0\n",
      "type            0\n",
      "title           0\n",
      "director        0\n",
      "country         0\n",
      "date_added      0\n",
      "release_year    0\n",
      "rating          0\n",
      "duration        0\n",
      "listed_in       0\n",
      "dtype: int64\n",
      "\n",
      "number of rows and columns: (8790, 10)\n"
     ]
    }
   ],
   "source": [
    "# a)alternative) Check having missing values, null values and size dataset\n",
    "\n",
    "# library call\n",
    "import pandas as pd\n",
    "\n",
    "# dataset loading\n",
    "df = pd.read_csv('/kaggle/input/netflix-data-cleaning-analysis-and-visualization/netflix1.csv') \n",
    "\n",
    "# returns True if there is at least one missing value in the dataset, False otherwise\n",
    "print('missing value:',df.isnull().values.any())\n",
    "print()\n",
    "\n",
    "print('count null value:')\n",
    "print()\n",
    "\n",
    "# counting the number of null values in each columns\n",
    "print(df.isnull().sum()) \n",
    "print()\n",
    "\n",
    "# counting the number of rows and columns\n",
    "print('number of rows and columns:',df.shape) \n",
    "\n"
   ]
  },
  {
   "cell_type": "code",
   "execution_count": 6,
   "id": "dd5ec0ea",
   "metadata": {
    "execution": {
     "iopub.execute_input": "2023-06-10T16:21:31.094055Z",
     "iopub.status.busy": "2023-06-10T16:21:31.093679Z",
     "iopub.status.idle": "2023-06-10T16:21:31.144162Z",
     "shell.execute_reply": "2023-06-10T16:21:31.142827Z"
    },
    "papermill": {
     "duration": 0.059173,
     "end_time": "2023-06-10T16:21:31.146796",
     "exception": false,
     "start_time": "2023-06-10T16:21:31.087623",
     "status": "completed"
    },
    "tags": []
   },
   "outputs": [
    {
     "name": "stdout",
     "output_type": "stream",
     "text": [
      "       release_year\n",
      "count   8790.000000\n",
      "mean    2014.183163\n",
      "std        8.825466\n",
      "min     1925.000000\n",
      "25%     2013.000000\n",
      "50%     2017.000000\n",
      "75%     2019.000000\n",
      "max     2021.000000\n"
     ]
    }
   ],
   "source": [
    "# d) viewing the main statistical characteristics of dataset data\n",
    "\n",
    "# library call\n",
    "import pandas as pd\n",
    "\n",
    "# dataset loading\n",
    "df = pd.read_csv('/kaggle/input/netflix-data-cleaning-analysis-and-visualization/netflix1.csv')\n",
    "\n",
    "# viewing statistical statistics\n",
    "print(df.describe())\n",
    "\n",
    "# count: number of filled values in the column\n",
    "# mean: column average\n",
    "# std: column standard deviation\n",
    "# min: the minimum value in the column\n",
    "# 25%: first quartile value\n",
    "# 50%: median value\n",
    "# 75%: third quartile value\n",
    "# max: maximum value in column"
   ]
  },
  {
   "cell_type": "code",
   "execution_count": 7,
   "id": "01e93c3e",
   "metadata": {
    "execution": {
     "iopub.execute_input": "2023-06-10T16:21:31.158222Z",
     "iopub.status.busy": "2023-06-10T16:21:31.157847Z",
     "iopub.status.idle": "2023-06-10T16:21:31.256783Z",
     "shell.execute_reply": "2023-06-10T16:21:31.255597Z"
    },
    "papermill": {
     "duration": 0.108256,
     "end_time": "2023-06-10T16:21:31.259995",
     "exception": false,
     "start_time": "2023-06-10T16:21:31.151739",
     "status": "completed"
    },
    "tags": []
   },
   "outputs": [
    {
     "name": "stdout",
     "output_type": "stream",
     "text": [
      "Dataset before column renaming:\n",
      "Index(['show_id', 'type', 'title', 'director', 'country', 'date_added',\n",
      "       'release_year', 'rating', 'duration', 'listed_in'],\n",
      "      dtype='object')\n",
      "\n",
      "Dataset after renaming columns:\n",
      "Index(['show_id', 'type', 'title', 'director', 'derjavy', 'date_added',\n",
      "       'release_year', 'rating', 'duration', 'listed_in'],\n",
      "      dtype='object')\n",
      "\n"
     ]
    }
   ],
   "source": [
    "# e) rename columns in dataset\n",
    "\n",
    "# library call\n",
    "import pandas as pd\n",
    "\n",
    "# dataset loading\n",
    "df = pd.read_csv('/kaggle/input/netflix-data-cleaning-analysis-and-visualization/netflix1.csv')\n",
    "\n",
    "# output dataset before renaming columns\n",
    "print(\"Dataset before column renaming:\")\n",
    "print(df.columns)\n",
    "print()\n",
    "\n",
    "# rename columns\n",
    "df = df.rename(columns={\"country\": \"derjavy\"}) #country/derjavy\n",
    "\n",
    "# dataset output after renaming columns\n",
    "print(\"Dataset after renaming columns:\")\n",
    "print(df.columns)\n",
    "print()\n",
    "\n",
    "# save dataset with new column names\n",
    "df.to_csv('/kaggle/working/netflix2.csv', index=False)\n"
   ]
  },
  {
   "cell_type": "markdown",
   "id": "c87e0342",
   "metadata": {
    "papermill": {
     "duration": 0.004801,
     "end_time": "2023-06-10T16:21:31.270140",
     "exception": false,
     "start_time": "2023-06-10T16:21:31.265339",
     "status": "completed"
    },
    "tags": []
   },
   "source": [
    "# **Step 1.3**"
   ]
  },
  {
   "cell_type": "code",
   "execution_count": 8,
   "id": "b7b09141",
   "metadata": {
    "execution": {
     "iopub.execute_input": "2023-06-10T16:21:31.282995Z",
     "iopub.status.busy": "2023-06-10T16:21:31.282327Z",
     "iopub.status.idle": "2023-06-10T16:21:31.353938Z",
     "shell.execute_reply": "2023-06-10T16:21:31.352700Z"
    },
    "papermill": {
     "duration": 0.081815,
     "end_time": "2023-06-10T16:21:31.357174",
     "exception": false,
     "start_time": "2023-06-10T16:21:31.275359",
     "status": "completed"
    },
    "tags": []
   },
   "outputs": [
    {
     "name": "stdout",
     "output_type": "stream",
     "text": [
      "Number of missing values in each column:\n",
      "show_id         0\n",
      "type            0\n",
      "title           0\n",
      "director        0\n",
      "country         0\n",
      "date_added      0\n",
      "release_year    0\n",
      "rating          0\n",
      "duration        0\n",
      "listed_in       0\n",
      "dtype: int64\n",
      "\n",
      "!No data cleansing required!\n"
     ]
    }
   ],
   "source": [
    "# a) \"cleaning\" database\n",
    "\n",
    "# library call\n",
    "import pandas as pd\n",
    "\n",
    "# dataset loading\n",
    "df = pd.read_csv('/kaggle/input/netflix-data-cleaning-analysis-and-visualization/netflix1.csv')\n",
    "\n",
    "# checking for missing values\n",
    "print(\"Number of missing values in each column:\")\n",
    "print(df.isnull().sum())\n",
    "print()\n",
    "\n",
    "# checking for duplicates\n",
    "if df.duplicated().sum() > 0:\n",
    "    \n",
    "    # deleting duplicates\n",
    "    df = df.drop_duplicates()\n",
    "    \n",
    "    # checking for missing values again\n",
    "    if df.isnull().values.any():\n",
    "        # deleting rows with missing values\n",
    "        df = df.dropna()\n",
    "    \n",
    "    # saving the cleaned dataset\n",
    "    df.to_csv('/kaggle/working/cleaned_netflix2.csv', index=False)\n",
    "    \n",
    "    # result output\n",
    "    print(\"!Data cleaning completed!\")\n",
    "else:\n",
    "    print(\"!No data cleansing required!\")\n",
    "    "
   ]
  },
  {
   "cell_type": "code",
   "execution_count": 9,
   "id": "617de2c6",
   "metadata": {
    "execution": {
     "iopub.execute_input": "2023-06-10T16:21:31.373415Z",
     "iopub.status.busy": "2023-06-10T16:21:31.372496Z",
     "iopub.status.idle": "2023-06-10T16:21:31.872986Z",
     "shell.execute_reply": "2023-06-10T16:21:31.871806Z"
    },
    "papermill": {
     "duration": 0.511015,
     "end_time": "2023-06-10T16:21:31.875649",
     "exception": false,
     "start_time": "2023-06-10T16:21:31.364634",
     "status": "completed"
    },
    "tags": []
   },
   "outputs": [
    {
     "data": {
      "image/png": "[encoded data removed]",
      "text/plain": [
       "<Figure size 1000x500 with 1 Axes>"
      ]
     },
     "metadata": {},
     "output_type": "display_data"
    }
   ],
   "source": [
    "# b) top 10 for data slicing and plotting\n",
    "\n",
    "# library call\n",
    "import pandas as pd\n",
    "import matplotlib.pyplot as plt\n",
    "\n",
    "# Загрузка данных из файла в DataFrame\n",
    "df = pd.read_csv('/kaggle/input/netflix-data-cleaning-analysis-and-visualization/netflix1.csv')\n",
    "\n",
    "# Группировка данных и подсчет количества элементов в каждой группе\n",
    "grouped_data = df.groupby(['rating'])['show_id'].count()\n",
    "\n",
    "# Получение топ-10 значений по каждой группе\n",
    "top_10 = grouped_data.groupby(level=0).nlargest(10)\n",
    "\n",
    "# Вывод графика\n",
    "colors = ['red', 'green', 'blue', 'black', 'purple', 'pink', 'brown', 'gray', 'orange', 'yellow']\n",
    "plt.figure(figsize=(10,5))\n",
    "top_10.plot(kind='bar', color=colors)\n",
    "plt.title('Top 10 by different data cuts')\n",
    "plt.xlabel('Group')\n",
    "plt.ylabel('Amount of elements')\n",
    "plt.show()"
   ]
  },
  {
   "cell_type": "code",
   "execution_count": 10,
   "id": "2d185b3a",
   "metadata": {
    "execution": {
     "iopub.execute_input": "2023-06-10T16:21:31.889425Z",
     "iopub.status.busy": "2023-06-10T16:21:31.888999Z",
     "iopub.status.idle": "2023-06-10T16:21:32.188279Z",
     "shell.execute_reply": "2023-06-10T16:21:32.187152Z"
    },
    "papermill": {
     "duration": 0.309081,
     "end_time": "2023-06-10T16:21:32.190693",
     "exception": false,
     "start_time": "2023-06-10T16:21:31.881612",
     "status": "completed"
    },
    "tags": []
   },
   "outputs": [
    {
     "data": {
      "image/png": "[encoded data removed]",
      "text/plain": [
       "<Figure size 1000x500 with 1 Axes>"
      ]
     },
     "metadata": {},
     "output_type": "display_data"
    }
   ],
   "source": [
    "# b)addition) top 2 for data slicing and plotting\n",
    "\n",
    "# library call\n",
    "import pandas as pd\n",
    "import matplotlib.pyplot as plt\n",
    "\n",
    "# Загрузка данных из файла в DataFrame\n",
    "df = pd.read_csv('/kaggle/input/netflix-data-cleaning-analysis-and-visualization/netflix1.csv')\n",
    "\n",
    "# Группировка данных и подсчет количества элементов в каждой группе\n",
    "grouped_data = df.groupby(['type'])['show_id'].count()\n",
    "\n",
    "# Получение топ-2 значений по каждой группе\n",
    "top_2 = grouped_data.groupby(level=0).nlargest(2)\n",
    "\n",
    "# Вывод графика\n",
    "colors = ['red','blue']\n",
    "plt.figure(figsize=(10,5))\n",
    "top_2.plot(kind='bar', color=colors)\n",
    "plt.title('Top 2 by different data cuts')\n",
    "plt.xlabel('Group')\n",
    "plt.ylabel('Amount of elements')\n",
    "plt.show()"
   ]
  },
  {
   "cell_type": "markdown",
   "id": "8eb51c35",
   "metadata": {
    "papermill": {
     "duration": 0.005997,
     "end_time": "2023-06-10T16:21:32.203288",
     "exception": false,
     "start_time": "2023-06-10T16:21:32.197291",
     "status": "completed"
    },
    "tags": []
   },
   "source": [
    "# **Step 1.4**"
   ]
  },
  {
   "cell_type": "code",
   "execution_count": 11,
   "id": "701be2e0",
   "metadata": {
    "execution": {
     "iopub.execute_input": "2023-06-10T16:21:32.218384Z",
     "iopub.status.busy": "2023-06-10T16:21:32.217763Z",
     "iopub.status.idle": "2023-06-10T16:21:34.995019Z",
     "shell.execute_reply": "2023-06-10T16:21:34.993958Z"
    },
    "papermill": {
     "duration": 2.788607,
     "end_time": "2023-06-10T16:21:34.998215",
     "exception": false,
     "start_time": "2023-06-10T16:21:32.209608",
     "status": "completed"
    },
    "tags": []
   },
   "outputs": [
    {
     "data": {
      "image/png": "[encoded data removed]",
      "text/plain": [
       "<Figure size 3500x600 with 1 Axes>"
      ]
     },
     "metadata": {},
     "output_type": "display_data"
    }
   ],
   "source": [
    "import pandas as pd\n",
    "import seaborn as sns\n",
    "import matplotlib.pyplot as plt\n",
    "\n",
    "# Загружаем датасет\n",
    "df = pd.read_csv('/kaggle/input/netflix-data-cleaning-analysis-and-visualization/netflix1.csv')\n",
    "\n",
    "# Группируем данные по году и вычисляем количество записей для каждого года\n",
    "year_counts = df.groupby(df['release_year'])['show_id'].count().reset_index()\n",
    "\n",
    "# Создаем график\n",
    "sns.set_style(\"whitegrid\")\n",
    "sns.set_palette(\"pastel\")\n",
    "plt.figure(figsize=(35,6))\n",
    "sns.countplot(x='release_year', data= df, palette=\"pastel\")\n",
    "plt.title(\"Количество контента, добавленного за годы\", fontsize=16)\n",
    "plt.xlabel(\"Годы\", fontsize=14)\n",
    "plt.ylabel(\"Количество контента\", fontsize=14)\n",
    "plt.ylim(0, max(year_counts['show_id'])+250)\n",
    "plt.show()\n",
    "\n"
   ]
  },
  {
   "cell_type": "code",
   "execution_count": null,
   "id": "2bd8da26",
   "metadata": {
    "papermill": {
     "duration": 0.006944,
     "end_time": "2023-06-10T16:21:35.012971",
     "exception": false,
     "start_time": "2023-06-10T16:21:35.006027",
     "status": "completed"
    },
    "tags": []
   },
   "outputs": [],
   "source": []
  }
 ],
 "metadata": {
  "kernelspec": {
   "display_name": "Python 3",
   "language": "python",
   "name": "python3"
  },
  "language_info": {
   "codemirror_mode": {
    "name": "ipython",
    "version": 3
   },
   "file_extension": ".py",
   "mimetype": "text/x-python",
   "name": "python",
   "nbconvert_exporter": "python",
   "pygments_lexer": "ipython3",
   "version": "3.10.10"
  },
  "papermill": {
   "default_parameters": {},
   "duration": 15.516147,
   "end_time": "2023-06-10T16:21:36.043507",
   "environment_variables": {},
   "exception": null,
   "input_path": "__notebook__.ipynb",
   "output_path": "__notebook__.ipynb",
   "parameters": {},
   "start_time": "2023-06-10T16:21:20.527360",
   "version": "2.4.0"
  }
 },
 "nbformat": 4,
 "nbformat_minor": 5
}
