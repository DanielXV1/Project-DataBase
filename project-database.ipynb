{
 "cells": [
  {
   "cell_type": "code",
   "execution_count": 1,
   "id": "5596cab0",
   "metadata": {
    "_cell_guid": "b1076dfc-b9ad-4769-8c92-a6c4dae69d19",
    "_uuid": "8f2839f25d086af736a60e9eeb907d3b93b6e0e5",
    "execution": {
     "iopub.execute_input": "2023-06-10T14:53:46.082174Z",
     "iopub.status.busy": "2023-06-10T14:53:46.081715Z",
     "iopub.status.idle": "2023-06-10T14:53:46.103902Z",
     "shell.execute_reply": "2023-06-10T14:53:46.102547Z"
    },
    "papermill": {
     "duration": 0.034685,
     "end_time": "2023-06-10T14:53:46.106773",
     "exception": false,
     "start_time": "2023-06-10T14:53:46.072088",
     "status": "completed"
    },
    "tags": []
   },
   "outputs": [
    {
     "name": "stdout",
     "output_type": "stream",
     "text": [
      "/kaggle/input/netflix-data-cleaning-analysis-and-visualization/netflix1.csv\n"
     ]
    }
   ],
   "source": [
    "# This Python 3 environment comes with many helpful analytics libraries installed\n",
    "# It is defined by the kaggle/python Docker image: https://github.com/kaggle/docker-python\n",
    "# For example, here's several helpful packages to load\n",
    "\n",
    "import numpy as np # linear algebra\n",
    "import pandas as pd # data processing, CSV file I/O (e.g. pd.read_csv)\n",
    "\n",
    "# Input data files are available in the read-only \"../input/\" directory\n",
    "# For example, running this (by clicking run or pressing Shift+Enter) will list all files under the input directory\n",
    "\n",
    "import os\n",
    "for dirname, _, filenames in os.walk('/kaggle/input'):\n",
    "    for filename in filenames:\n",
    "        print(os.path.join(dirname, filename))\n",
    "\n",
    "# You can write up to 20GB to the current directory (/kaggle/working/) that gets preserved as output when you create a version using \"Save & Run All\" \n",
    "# You can also write temporary files to /kaggle/temp/, but they won't be saved outside of the current session"
   ]
  },
  {
   "cell_type": "markdown",
   "id": "c4bb6c04",
   "metadata": {
    "papermill": {
     "duration": 0.006204,
     "end_time": "2023-06-10T14:53:46.119496",
     "exception": false,
     "start_time": "2023-06-10T14:53:46.113292",
     "status": "completed"
    },
    "tags": []
   },
   "source": [
    "# **Settings**"
   ]
  },
  {
   "cell_type": "code",
   "execution_count": 2,
   "id": "d59290a2",
   "metadata": {
    "execution": {
     "iopub.execute_input": "2023-06-10T14:53:46.134486Z",
     "iopub.status.busy": "2023-06-10T14:53:46.133952Z",
     "iopub.status.idle": "2023-06-10T14:53:46.140057Z",
     "shell.execute_reply": "2023-06-10T14:53:46.138586Z"
    },
    "papermill": {
     "duration": 0.01681,
     "end_time": "2023-06-10T14:53:46.142977",
     "exception": false,
     "start_time": "2023-06-10T14:53:46.126167",
     "status": "completed"
    },
    "tags": []
   },
   "outputs": [],
   "source": [
    "# necessary libraries for work\n",
    "# pip instal markdown\n",
    "# pip install numpy\n",
    "# pip install pandas\n",
    "# pip install ipython\n",
    "# pip install matplotlib"
   ]
  },
  {
   "cell_type": "markdown",
   "id": "28d38c79",
   "metadata": {
    "papermill": {
     "duration": 0.005895,
     "end_time": "2023-06-10T14:53:46.155046",
     "exception": false,
     "start_time": "2023-06-10T14:53:46.149151",
     "status": "completed"
    },
    "tags": []
   },
   "source": [
    "# **Step 1.1**"
   ]
  },
  {
   "cell_type": "code",
   "execution_count": 3,
   "id": "ea05bed5",
   "metadata": {
    "execution": {
     "iopub.execute_input": "2023-06-10T14:53:46.169811Z",
     "iopub.status.busy": "2023-06-10T14:53:46.169021Z",
     "iopub.status.idle": "2023-06-10T14:53:46.260454Z",
     "shell.execute_reply": "2023-06-10T14:53:46.258863Z"
    },
    "papermill": {
     "duration": 0.102008,
     "end_time": "2023-06-10T14:53:46.263359",
     "exception": false,
     "start_time": "2023-06-10T14:53:46.161351",
     "status": "completed"
    },
    "tags": []
   },
   "outputs": [
    {
     "data": {
      "text/markdown": [
       "**show_id**: Description of show_id.\n",
       "\n",
       "**type**: Description of type.\n",
       "\n",
       "**title**: Description of title.\n",
       "\n",
       "**director**: Description of director.\n",
       "\n",
       "**country**: Description of country.\n",
       "\n",
       "**date_added**: Description of date_added.\n",
       "\n",
       "**release_year**: Description of release_year.\n",
       "\n",
       "**rating**: Description of rating.\n",
       "\n",
       "**duration**: Description of duration.\n",
       "\n",
       "**listed_in**: Description of listed_in.\n",
       "\n"
      ],
      "text/plain": [
       "<IPython.core.display.Markdown object>"
      ]
     },
     "metadata": {},
     "output_type": "display_data"
    }
   ],
   "source": [
    "# library call\n",
    "import pandas as pd\n",
    "\n",
    "from IPython.display import Markdown, display\n",
    "\n",
    "# dataset loading\n",
    "dataset = pd.read_csv('/kaggle/input/netflix-data-cleaning-analysis-and-visualization/netflix1.csv') # loading dataset from csv file\n",
    "dataset.head()\n",
    "\n",
    "def describe_fields(dataset):\n",
    "    fields = dataset.columns.tolist()\n",
    "    markdown_text = \"\"\n",
    "    for field in fields:\n",
    "        markdown_text += f\"**{field}**: Description of {field}.\\n\\n\"\n",
    "    return markdown_text\n",
    "\n",
    "display(Markdown(describe_fields(dataset)))"
   ]
  },
  {
   "cell_type": "markdown",
   "id": "d9e857d5",
   "metadata": {
    "papermill": {
     "duration": 0.005912,
     "end_time": "2023-06-10T14:53:46.275602",
     "exception": false,
     "start_time": "2023-06-10T14:53:46.269690",
     "status": "completed"
    },
    "tags": []
   },
   "source": [
    "# **Step 1.2**"
   ]
  },
  {
   "cell_type": "code",
   "execution_count": 4,
   "id": "cf20b1f1",
   "metadata": {
    "execution": {
     "iopub.execute_input": "2023-06-10T14:53:46.291854Z",
     "iopub.status.busy": "2023-06-10T14:53:46.291361Z",
     "iopub.status.idle": "2023-06-10T14:53:46.399801Z",
     "shell.execute_reply": "2023-06-10T14:53:46.398028Z"
    },
    "papermill": {
     "duration": 0.119011,
     "end_time": "2023-06-10T14:53:46.402575",
     "exception": false,
     "start_time": "2023-06-10T14:53:46.283564",
     "status": "completed"
    },
    "tags": []
   },
   "outputs": [
    {
     "name": "stdout",
     "output_type": "stream",
     "text": [
      "<class 'pandas.core.frame.DataFrame'>\n",
      "RangeIndex: 8790 entries, 0 to 8789\n",
      "Data columns (total 10 columns):\n",
      " #   Column        Non-Null Count  Dtype \n",
      "---  ------        --------------  ----- \n",
      " 0   show_id       8790 non-null   object\n",
      " 1   type          8790 non-null   object\n",
      " 2   title         8790 non-null   object\n",
      " 3   director      8790 non-null   object\n",
      " 4   country       8790 non-null   object\n",
      " 5   date_added    8790 non-null   object\n",
      " 6   release_year  8790 non-null   int64 \n",
      " 7   rating        8790 non-null   object\n",
      " 8   duration      8790 non-null   object\n",
      " 9   listed_in     8790 non-null   object\n",
      "dtypes: int64(1), object(9)\n",
      "memory usage: 686.8+ KB\n"
     ]
    }
   ],
   "source": [
    "# a) Check having missing or null values and size database\n",
    "\n",
    "# library call\n",
    "import pandas as pd\n",
    "\n",
    "# dataset loading\n",
    "df = pd.read_csv('/kaggle/input/netflix-data-cleaning-analysis-and-visualization/netflix1.csv') \n",
    "\n",
    "# dateset info output\n",
    "df.info()"
   ]
  },
  {
   "cell_type": "code",
   "execution_count": 5,
   "id": "3dadeb9e",
   "metadata": {
    "execution": {
     "iopub.execute_input": "2023-06-10T14:53:46.419054Z",
     "iopub.status.busy": "2023-06-10T14:53:46.417730Z",
     "iopub.status.idle": "2023-06-10T14:53:46.521501Z",
     "shell.execute_reply": "2023-06-10T14:53:46.519792Z"
    },
    "papermill": {
     "duration": 0.11521,
     "end_time": "2023-06-10T14:53:46.524694",
     "exception": false,
     "start_time": "2023-06-10T14:53:46.409484",
     "status": "completed"
    },
    "tags": []
   },
   "outputs": [
    {
     "name": "stdout",
     "output_type": "stream",
     "text": [
      "missing value: False\n",
      "\n",
      "count null value:\n",
      "\n",
      "show_id         0\n",
      "type            0\n",
      "title           0\n",
      "director        0\n",
      "country         0\n",
      "date_added      0\n",
      "release_year    0\n",
      "rating          0\n",
      "duration        0\n",
      "listed_in       0\n",
      "dtype: int64\n",
      "\n",
      "number of rows and columns: (8790, 10)\n"
     ]
    }
   ],
   "source": [
    "# a)alternative) Check having missing values, null values and size dataset\n",
    "\n",
    "# library call\n",
    "import pandas as pd\n",
    "\n",
    "# dataset loading\n",
    "df = pd.read_csv('/kaggle/input/netflix-data-cleaning-analysis-and-visualization/netflix1.csv') \n",
    "\n",
    "# returns True if there is at least one missing value in the dataset, False otherwise\n",
    "print('missing value:',df.isnull().values.any())\n",
    "print()\n",
    "\n",
    "print('count null value:')\n",
    "print()\n",
    "\n",
    "# counting the number of null values in each columns\n",
    "print(df.isnull().sum()) \n",
    "print()\n",
    "\n",
    "# counting the number of rows and columns\n",
    "print('number of rows and columns:',df.shape) \n",
    "\n"
   ]
  },
  {
   "cell_type": "code",
   "execution_count": 6,
   "id": "b70e0d30",
   "metadata": {
    "execution": {
     "iopub.execute_input": "2023-06-10T14:53:46.542236Z",
     "iopub.status.busy": "2023-06-10T14:53:46.541778Z",
     "iopub.status.idle": "2023-06-10T14:53:46.612620Z",
     "shell.execute_reply": "2023-06-10T14:53:46.611062Z"
    },
    "papermill": {
     "duration": 0.083347,
     "end_time": "2023-06-10T14:53:46.615837",
     "exception": false,
     "start_time": "2023-06-10T14:53:46.532490",
     "status": "completed"
    },
    "tags": []
   },
   "outputs": [
    {
     "name": "stdout",
     "output_type": "stream",
     "text": [
      "       release_year\n",
      "count   8790.000000\n",
      "mean    2014.183163\n",
      "std        8.825466\n",
      "min     1925.000000\n",
      "25%     2013.000000\n",
      "50%     2017.000000\n",
      "75%     2019.000000\n",
      "max     2021.000000\n"
     ]
    }
   ],
   "source": [
    "# d) viewing the main statistical characteristics of dataset data\n",
    "\n",
    "# library call\n",
    "import pandas as pd\n",
    "\n",
    "# dataset loading\n",
    "df = pd.read_csv('/kaggle/input/netflix-data-cleaning-analysis-and-visualization/netflix1.csv')\n",
    "\n",
    "# viewing statistical statistics\n",
    "print(df.describe())\n",
    "\n",
    "# count: number of filled values in the column\n",
    "# mean: column average\n",
    "# std: column standard deviation\n",
    "# min: the minimum value in the column\n",
    "# 25%: first quartile value\n",
    "# 50%: median value\n",
    "# 75%: third quartile value\n",
    "# max: maximum value in column"
   ]
  },
  {
   "cell_type": "code",
   "execution_count": 7,
   "id": "0f92592c",
   "metadata": {
    "execution": {
     "iopub.execute_input": "2023-06-10T14:53:46.632826Z",
     "iopub.status.busy": "2023-06-10T14:53:46.632364Z",
     "iopub.status.idle": "2023-06-10T14:53:46.781930Z",
     "shell.execute_reply": "2023-06-10T14:53:46.780473Z"
    },
    "papermill": {
     "duration": 0.161048,
     "end_time": "2023-06-10T14:53:46.784422",
     "exception": false,
     "start_time": "2023-06-10T14:53:46.623374",
     "status": "completed"
    },
    "tags": []
   },
   "outputs": [
    {
     "name": "stdout",
     "output_type": "stream",
     "text": [
      "Dataset before column renaming:\n",
      "Index(['show_id', 'type', 'title', 'director', 'country', 'date_added',\n",
      "       'release_year', 'rating', 'duration', 'listed_in'],\n",
      "      dtype='object')\n",
      "\n",
      "Dataset after renaming columns:\n",
      "Index(['show_id', 'type', 'title', 'director', 'derjavy', 'date_added',\n",
      "       'release_year', 'rating', 'duration', 'listed_in'],\n",
      "      dtype='object')\n",
      "\n"
     ]
    }
   ],
   "source": [
    "# e) rename columns in dataset\n",
    "\n",
    "# library call\n",
    "import pandas as pd\n",
    "\n",
    "# dataset loading\n",
    "df = pd.read_csv('/kaggle/input/netflix-data-cleaning-analysis-and-visualization/netflix1.csv')\n",
    "\n",
    "# output dataset before renaming columns\n",
    "print(\"Dataset before column renaming:\")\n",
    "print(df.columns)\n",
    "print()\n",
    "\n",
    "# rename columns\n",
    "df = df.rename(columns={\"country\": \"derjavy\"}) #country/derjavy\n",
    "\n",
    "# dataset output after renaming columns\n",
    "print(\"Dataset after renaming columns:\")\n",
    "print(df.columns)\n",
    "print()\n",
    "\n",
    "# save dataset with new column names\n",
    "df.to_csv('/kaggle/working/netflix2.csv', index=False)\n"
   ]
  },
  {
   "cell_type": "markdown",
   "id": "071e7036",
   "metadata": {
    "papermill": {
     "duration": 0.006251,
     "end_time": "2023-06-10T14:53:46.797798",
     "exception": false,
     "start_time": "2023-06-10T14:53:46.791547",
     "status": "completed"
    },
    "tags": []
   },
   "source": [
    "# **Step 1.3**"
   ]
  },
  {
   "cell_type": "code",
   "execution_count": 8,
   "id": "d9b1fff1",
   "metadata": {
    "execution": {
     "iopub.execute_input": "2023-06-10T14:53:46.812915Z",
     "iopub.status.busy": "2023-06-10T14:53:46.812532Z",
     "iopub.status.idle": "2023-06-10T14:53:46.912757Z",
     "shell.execute_reply": "2023-06-10T14:53:46.911177Z"
    },
    "papermill": {
     "duration": 0.111609,
     "end_time": "2023-06-10T14:53:46.915998",
     "exception": false,
     "start_time": "2023-06-10T14:53:46.804389",
     "status": "completed"
    },
    "tags": []
   },
   "outputs": [
    {
     "name": "stdout",
     "output_type": "stream",
     "text": [
      "Number of missing values in each column:\n",
      "show_id         0\n",
      "type            0\n",
      "title           0\n",
      "director        0\n",
      "country         0\n",
      "date_added      0\n",
      "release_year    0\n",
      "rating          0\n",
      "duration        0\n",
      "listed_in       0\n",
      "dtype: int64\n",
      "\n",
      "!No data cleansing required!\n"
     ]
    }
   ],
   "source": [
    "# a) \"cleaning\" database\n",
    "\n",
    "# library call\n",
    "import pandas as pd\n",
    "\n",
    "# dataset loading\n",
    "df = pd.read_csv('/kaggle/input/netflix-data-cleaning-analysis-and-visualization/netflix1.csv')\n",
    "\n",
    "# checking for missing values\n",
    "print(\"Number of missing values in each column:\")\n",
    "print(df.isnull().sum())\n",
    "print()\n",
    "\n",
    "# checking for duplicates\n",
    "if df.duplicated().sum() > 0:\n",
    "    \n",
    "    # deleting duplicates\n",
    "    df = df.drop_duplicates()\n",
    "    \n",
    "    # checking for missing values again\n",
    "    if df.isnull().values.any():\n",
    "        # deleting rows with missing values\n",
    "        df = df.dropna()\n",
    "    \n",
    "    # saving the cleaned dataset\n",
    "    df.to_csv('/kaggle/working/cleaned_netflix2.csv', index=False)\n",
    "    \n",
    "    # result output\n",
    "    print(\"!Data cleaning completed!\")\n",
    "else:\n",
    "    print(\"!No data cleansing required!\")\n",
    "    "
   ]
  },
  {
   "cell_type": "code",
   "execution_count": 9,
   "id": "723919f8",
   "metadata": {
    "execution": {
     "iopub.execute_input": "2023-06-10T14:53:46.932673Z",
     "iopub.status.busy": "2023-06-10T14:53:46.932243Z",
     "iopub.status.idle": "2023-06-10T14:53:47.476319Z",
     "shell.execute_reply": "2023-06-10T14:53:47.474871Z"
    },
    "papermill": {
     "duration": 0.555596,
     "end_time": "2023-06-10T14:53:47.479106",
     "exception": false,
     "start_time": "2023-06-10T14:53:46.923510",
     "status": "completed"
    },
    "tags": []
   },
   "outputs": [
    {
     "data": {
      "image/png": "[encoded data removed]",
      "text/plain": [
       "<Figure size 1000x500 with 1 Axes>"
      ]
     },
     "metadata": {},
     "output_type": "display_data"
    }
   ],
   "source": [
    "# b) top 10 for data slicing and plotting\n",
    "\n",
    "# library call\n",
    "import pandas as pd\n",
    "import matplotlib.pyplot as plt\n",
    "\n",
    "# Загрузка данных из файла в DataFrame\n",
    "df = pd.read_csv('/kaggle/input/netflix-data-cleaning-analysis-and-visualization/netflix1.csv')\n",
    "\n",
    "# Группировка данных и подсчет количества элементов в каждой группе\n",
    "grouped_data = df.groupby(['rating'])['show_id'].count()\n",
    "\n",
    "# Получение топ-10 значений по каждой группе\n",
    "top_10 = grouped_data.groupby(level=0).nlargest(10)\n",
    "\n",
    "# Вывод графика\n",
    "plt.figure(figsize=(10,5))\n",
    "top_10.plot(kind='bar')\n",
    "plt.title('Top 10 by different data cuts')\n",
    "plt.xlabel('Group')\n",
    "plt.ylabel('Amount of elements')\n",
    "plt.show()"
   ]
  },
  {
   "cell_type": "code",
   "execution_count": 10,
   "id": "aa610aa1",
   "metadata": {
    "execution": {
     "iopub.execute_input": "2023-06-10T14:53:47.498721Z",
     "iopub.status.busy": "2023-06-10T14:53:47.498319Z",
     "iopub.status.idle": "2023-06-10T14:53:47.859179Z",
     "shell.execute_reply": "2023-06-10T14:53:47.857597Z"
    },
    "papermill": {
     "duration": 0.374237,
     "end_time": "2023-06-10T14:53:47.861917",
     "exception": false,
     "start_time": "2023-06-10T14:53:47.487680",
     "status": "completed"
    },
    "tags": []
   },
   "outputs": [
    {
     "data": {
      "image/png": "[encoded data removed]",
      "text/plain": [
       "<Figure size 1000x500 with 1 Axes>"
      ]
     },
     "metadata": {},
     "output_type": "display_data"
    }
   ],
   "source": [
    "# b)addition) top 2 for data slicing and plotting\n",
    "\n",
    "# library call\n",
    "import pandas as pd\n",
    "import matplotlib.pyplot as plt\n",
    "\n",
    "# Загрузка данных из файла в DataFrame\n",
    "df = pd.read_csv('/kaggle/input/netflix-data-cleaning-analysis-and-visualization/netflix1.csv')\n",
    "\n",
    "# Группировка данных и подсчет количества элементов в каждой группе\n",
    "grouped_data = df.groupby(['type'])['show_id'].count()\n",
    "\n",
    "# Получение топ-2 значений по каждой группе\n",
    "top_2 = grouped_data.groupby(level=0).nlargest(2)\n",
    "\n",
    "# Вывод графика\n",
    "plt.figure(figsize=(10,5))\n",
    "top_2.plot(kind='bar')\n",
    "plt.title('Top 2 by different data cuts')\n",
    "plt.xlabel('Group')\n",
    "plt.ylabel('Amount of elements')\n",
    "plt.show()"
   ]
  },
  {
   "cell_type": "markdown",
   "id": "49166e9f",
   "metadata": {
    "papermill": {
     "duration": 0.007857,
     "end_time": "2023-06-10T14:53:47.878216",
     "exception": false,
     "start_time": "2023-06-10T14:53:47.870359",
     "status": "completed"
    },
    "tags": []
   },
   "source": [
    "# **Step 1.4**"
   ]
  },
  {
   "cell_type": "code",
   "execution_count": 11,
   "id": "ff0fed9e",
   "metadata": {
    "execution": {
     "iopub.execute_input": "2023-06-10T14:53:47.897154Z",
     "iopub.status.busy": "2023-06-10T14:53:47.896682Z",
     "iopub.status.idle": "2023-06-10T14:55:04.083109Z",
     "shell.execute_reply": "2023-06-10T14:55:04.081668Z"
    },
    "papermill": {
     "duration": 76.205581,
     "end_time": "2023-06-10T14:55:04.092048",
     "exception": false,
     "start_time": "2023-06-10T14:53:47.886467",
     "status": "completed"
    },
    "tags": []
   },
   "outputs": [
    {
     "data": {
      "image/png": "[encoded data removed]",
      "text/plain": [
       "<Figure size 640x480 with 1 Axes>"
      ]
     },
     "metadata": {},
     "output_type": "display_data"
    },
    {
     "name": "stdout",
     "output_type": "stream",
     "text": [
      "Country per day statistics:\n",
      " count    8790.0\n",
      "mean        1.0\n",
      "std         0.0\n",
      "min         1.0\n",
      "25%         1.0\n",
      "50%         1.0\n",
      "75%         1.0\n",
      "max         1.0\n",
      "Name: release_year, dtype: float64\n"
     ]
    }
   ],
   "source": [
    "import pandas as pd\n",
    "\n",
    "data = pd.read_csv('/kaggle/input/netflix-data-cleaning-analysis-and-visualization/netflix1.csv')\n",
    "\n",
    "# предобработка данных\n",
    "data.drop_duplicates(inplace=True)\n",
    "data.dropna(inplace=True)\n",
    "\n",
    "# расчет метрик\n",
    "country_per_day = data.groupby('show_id')['release_year'].nunique()\n",
    "#sales_per_day = data.groupby('date')['sales'].sum()\n",
    "#sales_per_visitor = data.groupby('country')['sales'].sum()\n",
    "\n",
    "# визуализация результатов\n",
    "import matplotlib.pyplot as plt\n",
    "\n",
    "plt.plot(country_per_day)\n",
    "plt.title('country per day')\n",
    "plt.xlabel('release year')\n",
    "plt.ylabel('Number of country')\n",
    "plt.show()\n",
    "\n",
    "#plt.plot(sales_per_day)\n",
    "#plt.title('Sales per day')\n",
    "#plt.xlabel('Date')\n",
    "#plt.ylabel('Sales')\n",
    "#plt.show()\n",
    "\n",
    "#plt.hist(sales_per_visitor)\n",
    "#plt.title('Sales per visitor')\n",
    "#plt.xlabel('Sales')\n",
    "#plt.ylabel('Number of visitors')\n",
    "#plt.show()\n",
    "\n",
    "# анализ каждой метрики\n",
    "print('Country per day statistics:\\n', country_per_day.describe())\n",
    "#print('Sales per day statistics:\\n', sales_per_day.describe())\n",
    "#print('Sales per visitor statistics:\\n', sales_per_visitor.describe())"
   ]
  },
  {
   "cell_type": "code",
   "execution_count": null,
   "id": "f0768693",
   "metadata": {
    "papermill": {
     "duration": 0.009601,
     "end_time": "2023-06-10T14:55:04.111043",
     "exception": false,
     "start_time": "2023-06-10T14:55:04.101442",
     "status": "completed"
    },
    "tags": []
   },
   "outputs": [],
   "source": []
  }
 ],
 "metadata": {
  "kernelspec": {
   "display_name": "Python 3",
   "language": "python",
   "name": "python3"
  },
  "language_info": {
   "codemirror_mode": {
    "name": "ipython",
    "version": 3
   },
   "file_extension": ".py",
   "mimetype": "text/x-python",
   "name": "python",
   "nbconvert_exporter": "python",
   "pygments_lexer": "ipython3",
   "version": "3.10.10"
  },
  "papermill": {
   "default_parameters": {},
   "duration": 95.793891,
   "end_time": "2023-06-10T14:55:06.552085",
   "environment_variables": {},
   "exception": null,
   "input_path": "__notebook__.ipynb",
   "output_path": "__notebook__.ipynb",
   "parameters": {},
   "start_time": "2023-06-10T14:53:30.758194",
   "version": "2.4.0"
  }
 },
 "nbformat": 4,
 "nbformat_minor": 5
}
