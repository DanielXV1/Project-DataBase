{
 "cells": [
  {
   "cell_type": "code",
   "execution_count": 1,
   "id": "aa428f51",
   "metadata": {
    "_cell_guid": "b1076dfc-b9ad-4769-8c92-a6c4dae69d19",
    "_uuid": "8f2839f25d086af736a60e9eeb907d3b93b6e0e5",
    "execution": {
     "iopub.execute_input": "2023-06-10T14:41:33.606054Z",
     "iopub.status.busy": "2023-06-10T14:41:33.605537Z",
     "iopub.status.idle": "2023-06-10T14:41:33.626310Z",
     "shell.execute_reply": "2023-06-10T14:41:33.624962Z"
    },
    "papermill": {
     "duration": 0.03097,
     "end_time": "2023-06-10T14:41:33.628641",
     "exception": false,
     "start_time": "2023-06-10T14:41:33.597671",
     "status": "completed"
    },
    "tags": []
   },
   "outputs": [
    {
     "name": "stdout",
     "output_type": "stream",
     "text": [
      "/kaggle/input/netflix-data-cleaning-analysis-and-visualization/netflix1.csv\n"
     ]
    }
   ],
   "source": [
    "# This Python 3 environment comes with many helpful analytics libraries installed\n",
    "# It is defined by the kaggle/python Docker image: https://github.com/kaggle/docker-python\n",
    "# For example, here's several helpful packages to load\n",
    "\n",
    "import numpy as np # linear algebra\n",
    "import pandas as pd # data processing, CSV file I/O (e.g. pd.read_csv)\n",
    "\n",
    "# Input data files are available in the read-only \"../input/\" directory\n",
    "# For example, running this (by clicking run or pressing Shift+Enter) will list all files under the input directory\n",
    "\n",
    "import os\n",
    "for dirname, _, filenames in os.walk('/kaggle/input'):\n",
    "    for filename in filenames:\n",
    "        print(os.path.join(dirname, filename))\n",
    "\n",
    "# You can write up to 20GB to the current directory (/kaggle/working/) that gets preserved as output when you create a version using \"Save & Run All\" \n",
    "# You can also write temporary files to /kaggle/temp/, but they won't be saved outside of the current session"
   ]
  },
  {
   "cell_type": "markdown",
   "id": "f680146d",
   "metadata": {
    "papermill": {
     "duration": 0.005206,
     "end_time": "2023-06-10T14:41:33.639615",
     "exception": false,
     "start_time": "2023-06-10T14:41:33.634409",
     "status": "completed"
    },
    "tags": []
   },
   "source": [
    "# **Settings**"
   ]
  },
  {
   "cell_type": "code",
   "execution_count": 2,
   "id": "cbfde81a",
   "metadata": {
    "execution": {
     "iopub.execute_input": "2023-06-10T14:41:33.654064Z",
     "iopub.status.busy": "2023-06-10T14:41:33.653348Z",
     "iopub.status.idle": "2023-06-10T14:41:33.657935Z",
     "shell.execute_reply": "2023-06-10T14:41:33.656901Z"
    },
    "papermill": {
     "duration": 0.014089,
     "end_time": "2023-06-10T14:41:33.660360",
     "exception": false,
     "start_time": "2023-06-10T14:41:33.646271",
     "status": "completed"
    },
    "tags": []
   },
   "outputs": [],
   "source": [
    "# necessary libraries for work\n",
    "# pip instal markdown\n",
    "# pip install numpy\n",
    "# pip install pandas\n",
    "# pip install ipython\n",
    "# pip install matplotlib"
   ]
  },
  {
   "cell_type": "markdown",
   "id": "2328e2f1",
   "metadata": {
    "papermill": {
     "duration": 0.005221,
     "end_time": "2023-06-10T14:41:33.671146",
     "exception": false,
     "start_time": "2023-06-10T14:41:33.665925",
     "status": "completed"
    },
    "tags": []
   },
   "source": [
    "# **Step 1.1**"
   ]
  },
  {
   "cell_type": "code",
   "execution_count": 3,
   "id": "cd43cd50",
   "metadata": {
    "execution": {
     "iopub.execute_input": "2023-06-10T14:41:33.684430Z",
     "iopub.status.busy": "2023-06-10T14:41:33.683466Z",
     "iopub.status.idle": "2023-06-10T14:41:33.762289Z",
     "shell.execute_reply": "2023-06-10T14:41:33.761166Z"
    },
    "papermill": {
     "duration": 0.087917,
     "end_time": "2023-06-10T14:41:33.764550",
     "exception": false,
     "start_time": "2023-06-10T14:41:33.676633",
     "status": "completed"
    },
    "tags": []
   },
   "outputs": [
    {
     "data": {
      "text/markdown": [
       "**show_id**: Description of show_id.\n",
       "\n",
       "**type**: Description of type.\n",
       "\n",
       "**title**: Description of title.\n",
       "\n",
       "**director**: Description of director.\n",
       "\n",
       "**country**: Description of country.\n",
       "\n",
       "**date_added**: Description of date_added.\n",
       "\n",
       "**release_year**: Description of release_year.\n",
       "\n",
       "**rating**: Description of rating.\n",
       "\n",
       "**duration**: Description of duration.\n",
       "\n",
       "**listed_in**: Description of listed_in.\n",
       "\n"
      ],
      "text/plain": [
       "<IPython.core.display.Markdown object>"
      ]
     },
     "metadata": {},
     "output_type": "display_data"
    }
   ],
   "source": [
    "# library call\n",
    "import pandas as pd\n",
    "\n",
    "from IPython.display import Markdown, display\n",
    "\n",
    "# dataset loading\n",
    "dataset = pd.read_csv('/kaggle/input/netflix-data-cleaning-analysis-and-visualization/netflix1.csv') # loading dataset from csv file\n",
    "dataset.head()\n",
    "\n",
    "def describe_fields(dataset):\n",
    "    fields = dataset.columns.tolist()\n",
    "    markdown_text = \"\"\n",
    "    for field in fields:\n",
    "        markdown_text += f\"**{field}**: Description of {field}.\\n\\n\"\n",
    "    return markdown_text\n",
    "\n",
    "display(Markdown(describe_fields(dataset)))"
   ]
  },
  {
   "cell_type": "markdown",
   "id": "1a808a0a",
   "metadata": {
    "papermill": {
     "duration": 0.00582,
     "end_time": "2023-06-10T14:41:33.776202",
     "exception": false,
     "start_time": "2023-06-10T14:41:33.770382",
     "status": "completed"
    },
    "tags": []
   },
   "source": [
    "# **Step 1.2**"
   ]
  },
  {
   "cell_type": "code",
   "execution_count": 4,
   "id": "96f7f70c",
   "metadata": {
    "execution": {
     "iopub.execute_input": "2023-06-10T14:41:33.791002Z",
     "iopub.status.busy": "2023-06-10T14:41:33.790439Z",
     "iopub.status.idle": "2023-06-10T14:41:33.884305Z",
     "shell.execute_reply": "2023-06-10T14:41:33.883158Z"
    },
    "papermill": {
     "duration": 0.10534,
     "end_time": "2023-06-10T14:41:33.887182",
     "exception": false,
     "start_time": "2023-06-10T14:41:33.781842",
     "status": "completed"
    },
    "tags": []
   },
   "outputs": [
    {
     "name": "stdout",
     "output_type": "stream",
     "text": [
      "<class 'pandas.core.frame.DataFrame'>\n",
      "RangeIndex: 8790 entries, 0 to 8789\n",
      "Data columns (total 10 columns):\n",
      " #   Column        Non-Null Count  Dtype \n",
      "---  ------        --------------  ----- \n",
      " 0   show_id       8790 non-null   object\n",
      " 1   type          8790 non-null   object\n",
      " 2   title         8790 non-null   object\n",
      " 3   director      8790 non-null   object\n",
      " 4   country       8790 non-null   object\n",
      " 5   date_added    8790 non-null   object\n",
      " 6   release_year  8790 non-null   int64 \n",
      " 7   rating        8790 non-null   object\n",
      " 8   duration      8790 non-null   object\n",
      " 9   listed_in     8790 non-null   object\n",
      "dtypes: int64(1), object(9)\n",
      "memory usage: 686.8+ KB\n"
     ]
    }
   ],
   "source": [
    "# a) Check having missing or null values and size database\n",
    "\n",
    "# library call\n",
    "import pandas as pd\n",
    "\n",
    "# dataset loading\n",
    "df = pd.read_csv('/kaggle/input/netflix-data-cleaning-analysis-and-visualization/netflix1.csv') \n",
    "\n",
    "# dateset info output\n",
    "df.info()"
   ]
  },
  {
   "cell_type": "code",
   "execution_count": 5,
   "id": "d206d200",
   "metadata": {
    "execution": {
     "iopub.execute_input": "2023-06-10T14:41:33.900946Z",
     "iopub.status.busy": "2023-06-10T14:41:33.900529Z",
     "iopub.status.idle": "2023-06-10T14:41:34.000092Z",
     "shell.execute_reply": "2023-06-10T14:41:33.998623Z"
    },
    "papermill": {
     "duration": 0.109217,
     "end_time": "2023-06-10T14:41:34.002517",
     "exception": false,
     "start_time": "2023-06-10T14:41:33.893300",
     "status": "completed"
    },
    "tags": []
   },
   "outputs": [
    {
     "name": "stdout",
     "output_type": "stream",
     "text": [
      "missing value: False\n",
      "\n",
      "count null value:\n",
      "\n",
      "show_id         0\n",
      "type            0\n",
      "title           0\n",
      "director        0\n",
      "country         0\n",
      "date_added      0\n",
      "release_year    0\n",
      "rating          0\n",
      "duration        0\n",
      "listed_in       0\n",
      "dtype: int64\n",
      "\n",
      "number of rows and columns: (8790, 10)\n"
     ]
    }
   ],
   "source": [
    "# a)alternative) Check having missing values, null values and size dataset\n",
    "\n",
    "# library call\n",
    "import pandas as pd\n",
    "\n",
    "# dataset loading\n",
    "df = pd.read_csv('/kaggle/input/netflix-data-cleaning-analysis-and-visualization/netflix1.csv') \n",
    "\n",
    "# returns True if there is at least one missing value in the dataset, False otherwise\n",
    "print('missing value:',df.isnull().values.any())\n",
    "print()\n",
    "\n",
    "print('count null value:')\n",
    "print()\n",
    "\n",
    "# counting the number of null values in each columns\n",
    "print(df.isnull().sum()) \n",
    "print()\n",
    "\n",
    "# counting the number of rows and columns\n",
    "print('number of rows and columns:',df.shape) \n",
    "\n"
   ]
  },
  {
   "cell_type": "code",
   "execution_count": 6,
   "id": "74ba2417",
   "metadata": {
    "execution": {
     "iopub.execute_input": "2023-06-10T14:41:34.016626Z",
     "iopub.status.busy": "2023-06-10T14:41:34.016235Z",
     "iopub.status.idle": "2023-06-10T14:41:34.072119Z",
     "shell.execute_reply": "2023-06-10T14:41:34.070984Z"
    },
    "papermill": {
     "duration": 0.065945,
     "end_time": "2023-06-10T14:41:34.074620",
     "exception": false,
     "start_time": "2023-06-10T14:41:34.008675",
     "status": "completed"
    },
    "tags": []
   },
   "outputs": [
    {
     "name": "stdout",
     "output_type": "stream",
     "text": [
      "       release_year\n",
      "count   8790.000000\n",
      "mean    2014.183163\n",
      "std        8.825466\n",
      "min     1925.000000\n",
      "25%     2013.000000\n",
      "50%     2017.000000\n",
      "75%     2019.000000\n",
      "max     2021.000000\n"
     ]
    }
   ],
   "source": [
    "# d) viewing the main statistical characteristics of dataset data\n",
    "\n",
    "# library call\n",
    "import pandas as pd\n",
    "\n",
    "# dataset loading\n",
    "df = pd.read_csv('/kaggle/input/netflix-data-cleaning-analysis-and-visualization/netflix1.csv')\n",
    "\n",
    "# viewing statistical statistics\n",
    "print(df.describe())\n",
    "\n",
    "# count: number of filled values in the column\n",
    "# mean: column average\n",
    "# std: column standard deviation\n",
    "# min: the minimum value in the column\n",
    "# 25%: first quartile value\n",
    "# 50%: median value\n",
    "# 75%: third quartile value\n",
    "# max: maximum value in column"
   ]
  },
  {
   "cell_type": "code",
   "execution_count": 7,
   "id": "0ad573b4",
   "metadata": {
    "execution": {
     "iopub.execute_input": "2023-06-10T14:41:34.089261Z",
     "iopub.status.busy": "2023-06-10T14:41:34.088278Z",
     "iopub.status.idle": "2023-06-10T14:41:34.231589Z",
     "shell.execute_reply": "2023-06-10T14:41:34.230436Z"
    },
    "papermill": {
     "duration": 0.153212,
     "end_time": "2023-06-10T14:41:34.234076",
     "exception": false,
     "start_time": "2023-06-10T14:41:34.080864",
     "status": "completed"
    },
    "tags": []
   },
   "outputs": [
    {
     "name": "stdout",
     "output_type": "stream",
     "text": [
      "Dataset before column renaming:\n",
      "Index(['show_id', 'type', 'title', 'director', 'country', 'date_added',\n",
      "       'release_year', 'rating', 'duration', 'listed_in'],\n",
      "      dtype='object')\n",
      "\n",
      "Dataset after renaming columns:\n",
      "Index(['show_id', 'type', 'title', 'director', 'derjavy', 'date_added',\n",
      "       'release_year', 'rating', 'duration', 'listed_in'],\n",
      "      dtype='object')\n",
      "\n"
     ]
    }
   ],
   "source": [
    "# e) rename columns in dataset\n",
    "\n",
    "# library call\n",
    "import pandas as pd\n",
    "\n",
    "# dataset loading\n",
    "df = pd.read_csv('/kaggle/input/netflix-data-cleaning-analysis-and-visualization/netflix1.csv')\n",
    "\n",
    "# output dataset before renaming columns\n",
    "print(\"Dataset before column renaming:\")\n",
    "print(df.columns)\n",
    "print()\n",
    "\n",
    "# rename columns\n",
    "df = df.rename(columns={\"country\": \"derjavy\"}) #country/derjavy\n",
    "\n",
    "# dataset output after renaming columns\n",
    "print(\"Dataset after renaming columns:\")\n",
    "print(df.columns)\n",
    "print()\n",
    "\n",
    "# save dataset with new column names\n",
    "df.to_csv('/kaggle/working/netflix2.csv', index=False)\n"
   ]
  },
  {
   "cell_type": "markdown",
   "id": "4faf7ccc",
   "metadata": {
    "papermill": {
     "duration": 0.005837,
     "end_time": "2023-06-10T14:41:34.246155",
     "exception": false,
     "start_time": "2023-06-10T14:41:34.240318",
     "status": "completed"
    },
    "tags": []
   },
   "source": [
    "# **Step 1.3**"
   ]
  },
  {
   "cell_type": "code",
   "execution_count": 8,
   "id": "6e731cd9",
   "metadata": {
    "execution": {
     "iopub.execute_input": "2023-06-10T14:41:34.260005Z",
     "iopub.status.busy": "2023-06-10T14:41:34.259639Z",
     "iopub.status.idle": "2023-06-10T14:41:34.348539Z",
     "shell.execute_reply": "2023-06-10T14:41:34.347045Z"
    },
    "papermill": {
     "duration": 0.098857,
     "end_time": "2023-06-10T14:41:34.351119",
     "exception": false,
     "start_time": "2023-06-10T14:41:34.252262",
     "status": "completed"
    },
    "tags": []
   },
   "outputs": [
    {
     "name": "stdout",
     "output_type": "stream",
     "text": [
      "Number of missing values in each column:\n",
      "show_id         0\n",
      "type            0\n",
      "title           0\n",
      "director        0\n",
      "country         0\n",
      "date_added      0\n",
      "release_year    0\n",
      "rating          0\n",
      "duration        0\n",
      "listed_in       0\n",
      "dtype: int64\n",
      "\n",
      "!No data cleansing required!\n"
     ]
    }
   ],
   "source": [
    "# a) \"cleaning\" database\n",
    "\n",
    "# library call\n",
    "import pandas as pd\n",
    "\n",
    "# dataset loading\n",
    "df = pd.read_csv('/kaggle/input/netflix-data-cleaning-analysis-and-visualization/netflix1.csv')\n",
    "\n",
    "# checking for missing values\n",
    "print(\"Number of missing values in each column:\")\n",
    "print(df.isnull().sum())\n",
    "print()\n",
    "\n",
    "# checking for duplicates\n",
    "if df.duplicated().sum() > 0:\n",
    "    \n",
    "    # deleting duplicates\n",
    "    df = df.drop_duplicates()\n",
    "    \n",
    "    # checking for missing values again\n",
    "    if df.isnull().values.any():\n",
    "        # deleting rows with missing values\n",
    "        df = df.dropna()\n",
    "    \n",
    "    # saving the cleaned dataset\n",
    "    df.to_csv('/kaggle/working/cleaned_netflix2.csv', index=False)\n",
    "    \n",
    "    # result output\n",
    "    print(\"!Data cleaning completed!\")\n",
    "else:\n",
    "    print(\"!No data cleansing required!\")\n",
    "    "
   ]
  },
  {
   "cell_type": "code",
   "execution_count": 9,
   "id": "ed4ed40d",
   "metadata": {
    "execution": {
     "iopub.execute_input": "2023-06-10T14:41:34.365917Z",
     "iopub.status.busy": "2023-06-10T14:41:34.365534Z",
     "iopub.status.idle": "2023-06-10T14:41:34.829375Z",
     "shell.execute_reply": "2023-06-10T14:41:34.828196Z"
    },
    "papermill": {
     "duration": 0.474089,
     "end_time": "2023-06-10T14:41:34.831744",
     "exception": false,
     "start_time": "2023-06-10T14:41:34.357655",
     "status": "completed"
    },
    "tags": []
   },
   "outputs": [
    {
     "data": {
      "image/png": "[encoded data removed]",
      "text/plain": [
       "<Figure size 1000x500 with 1 Axes>"
      ]
     },
     "metadata": {},
     "output_type": "display_data"
    }
   ],
   "source": [
    "# b) top 10 for data slicing and plotting\n",
    "\n",
    "# library call\n",
    "import pandas as pd\n",
    "import matplotlib.pyplot as plt\n",
    "\n",
    "# Загрузка данных из файла в DataFrame\n",
    "df = pd.read_csv('/kaggle/input/netflix-data-cleaning-analysis-and-visualization/netflix1.csv')\n",
    "\n",
    "# Группировка данных и подсчет количества элементов в каждой группе\n",
    "grouped_data = df.groupby(['rating'])['show_id'].count()\n",
    "\n",
    "# Получение топ-10 значений по каждой группе\n",
    "top_10 = grouped_data.groupby(level=0).nlargest(10)\n",
    "\n",
    "# Вывод графика\n",
    "plt.figure(figsize=(10,5))\n",
    "top_10.plot(kind='bar')\n",
    "plt.title('Top 10 by different data cuts')\n",
    "plt.xlabel('Group')\n",
    "plt.ylabel('Amount of elements')\n",
    "plt.show()"
   ]
  },
  {
   "cell_type": "markdown",
   "id": "5669abdf",
   "metadata": {
    "papermill": {
     "duration": 0.007275,
     "end_time": "2023-06-10T14:41:34.846327",
     "exception": false,
     "start_time": "2023-06-10T14:41:34.839052",
     "status": "completed"
    },
    "tags": []
   },
   "source": [
    "# **Step 1.4**"
   ]
  },
  {
   "cell_type": "code",
   "execution_count": 10,
   "id": "0fc447bf",
   "metadata": {
    "execution": {
     "iopub.execute_input": "2023-06-10T14:41:34.862663Z",
     "iopub.status.busy": "2023-06-10T14:41:34.862229Z",
     "iopub.status.idle": "2023-06-10T14:41:45.998876Z",
     "shell.execute_reply": "2023-06-10T14:41:45.996967Z"
    },
    "papermill": {
     "duration": 11.147892,
     "end_time": "2023-06-10T14:41:46.001429",
     "exception": false,
     "start_time": "2023-06-10T14:41:34.853537",
     "status": "completed"
    },
    "tags": []
   },
   "outputs": [
    {
     "data": {
      "image/png": "[encoded data removed]",
      "text/plain": [
       "<Figure size 640x480 with 1 Axes>"
      ]
     },
     "metadata": {},
     "output_type": "display_data"
    },
    {
     "name": "stdout",
     "output_type": "stream",
     "text": [
      "Country per day statistics:\n",
      " count    1713.000000\n",
      "mean        2.873905\n",
      "std         2.437150\n",
      "min         1.000000\n",
      "25%         1.000000\n",
      "50%         2.000000\n",
      "75%         4.000000\n",
      "max        17.000000\n",
      "Name: country, dtype: float64\n"
     ]
    }
   ],
   "source": [
    "import pandas as pd\n",
    "\n",
    "data = pd.read_csv('/kaggle/input/netflix-data-cleaning-analysis-and-visualization/netflix1.csv')\n",
    "\n",
    "# предобработка данных\n",
    "data.drop_duplicates(inplace=True)\n",
    "data.dropna(inplace=True)\n",
    "\n",
    "# расчет метрик\n",
    "country_per_day = data.groupby('date_added')['country'].nunique()\n",
    "#sales_per_day = data.groupby('date')['sales'].sum()\n",
    "#sales_per_visitor = data.groupby('country')['sales'].sum()\n",
    "\n",
    "# визуализация результатов\n",
    "import matplotlib.pyplot as plt\n",
    "\n",
    "plt.plot(country_per_day)\n",
    "plt.title('country per day')\n",
    "plt.xlabel('release year')\n",
    "plt.ylabel('Number of country')\n",
    "plt.show()\n",
    "\n",
    "#plt.plot(sales_per_day)\n",
    "#plt.title('Sales per day')\n",
    "#plt.xlabel('Date')\n",
    "#plt.ylabel('Sales')\n",
    "#plt.show()\n",
    "\n",
    "#plt.hist(sales_per_visitor)\n",
    "#plt.title('Sales per visitor')\n",
    "#plt.xlabel('Sales')\n",
    "#plt.ylabel('Number of visitors')\n",
    "#plt.show()\n",
    "\n",
    "# анализ каждой метрики\n",
    "print('Country per day statistics:\\n', country_per_day.describe())\n",
    "#print('Sales per day statistics:\\n', sales_per_day.describe())\n",
    "#print('Sales per visitor statistics:\\n', sales_per_visitor.describe())"
   ]
  },
  {
   "cell_type": "code",
   "execution_count": null,
   "id": "9271296f",
   "metadata": {
    "papermill": {
     "duration": 0.007963,
     "end_time": "2023-06-10T14:41:46.017995",
     "exception": false,
     "start_time": "2023-06-10T14:41:46.010032",
     "status": "completed"
    },
    "tags": []
   },
   "outputs": [],
   "source": []
  }
 ],
 "metadata": {
  "kernelspec": {
   "display_name": "Python 3",
   "language": "python",
   "name": "python3"
  },
  "language_info": {
   "codemirror_mode": {
    "name": "ipython",
    "version": 3
   },
   "file_extension": ".py",
   "mimetype": "text/x-python",
   "name": "python",
   "nbconvert_exporter": "python",
   "pygments_lexer": "ipython3",
   "version": "3.10.10"
  },
  "papermill": {
   "default_parameters": {},
   "duration": 25.512746,
   "end_time": "2023-06-10T14:41:47.049109",
   "environment_variables": {},
   "exception": null,
   "input_path": "__notebook__.ipynb",
   "output_path": "__notebook__.ipynb",
   "parameters": {},
   "start_time": "2023-06-10T14:41:21.536363",
   "version": "2.4.0"
  }
 },
 "nbformat": 4,
 "nbformat_minor": 5
}
